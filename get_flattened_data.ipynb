{
 "cells": [
  {
   "cell_type": "code",
   "execution_count": 13,
   "metadata": {},
   "outputs": [],
   "source": [
    "import pandas\n",
    "from scipy import stats\n",
    "from scipy.stats import pearsonr"
   ]
  },
  {
   "cell_type": "code",
   "execution_count": 2,
   "metadata": {},
   "outputs": [],
   "source": [
    "indp = pandas.read_csv(\"industries_short_names.csv\")\n",
    "rac1p = pandas.read_csv(\"RAC1P.csv\")\n",
    "cow = pandas.read_csv(\"COW.csv\", delimiter=':')\n"
   ]
  },
  {
   "cell_type": "code",
   "execution_count": 3,
   "metadata": {},
   "outputs": [],
   "source": [
    "indp_dict = dict(zip(indp.Code, indp.Name))\n",
    "rac1p_dict = dict(zip(rac1p.Id, rac1p.Race))\n",
    "cow_dict = dict(zip(cow.b, cow['Not Applicable']))\n",
    "\n",
    "gender_dict = dict()\n",
    "gender_dict[1] = 'Male'\n",
    "gender_dict[2] = 'Female'"
   ]
  },
  {
   "cell_type": "code",
   "execution_count": 4,
   "metadata": {},
   "outputs": [
    {
     "name": "stdout",
     "output_type": "stream",
     "text": [
      "41\n"
     ]
    }
   ],
   "source": [
    "features = []\n",
    "features.extend(list(set(indp_dict.values())))\n",
    "features.extend(rac1p_dict.values())\n",
    "features.extend(cow_dict.values())\n",
    "features.extend(gender_dict.values())\n",
    "print(len(features))\n"
   ]
  },
  {
   "cell_type": "code",
   "execution_count": 5,
   "metadata": {},
   "outputs": [
    {
     "data": {
      "text/plain": [
       "['EDUCATION',\n",
       " 'ADMINISTRATION',\n",
       " 'EXTRACTION',\n",
       " 'TRANSPORT',\n",
       " 'CONSTRUCTION',\n",
       " 'AGRICULTURE',\n",
       " 'UNEMPLOYED',\n",
       " 'FINANCE',\n",
       " 'INFORMATION_TECH',\n",
       " 'RETAIL',\n",
       " 'COMMUNITY_SERVICES',\n",
       " 'MEDICAL',\n",
       " 'UTILITIES',\n",
       " 'WHOLESALE',\n",
       " 'MANUFACTURING',\n",
       " 'MILITARY',\n",
       " 'DOMESTIC_SERVICES',\n",
       " 'ENTERTAINMENT',\n",
       " 'SERVICES',\n",
       " 'White',\n",
       " 'Black or African American',\n",
       " 'American Indian',\n",
       " 'Alaska Native',\n",
       " 'American Indian and Alaska Native tribes specified',\n",
       " 'Asian',\n",
       " 'Native Hawaiian',\n",
       " 'Some Other Race',\n",
       " 'Two or More Races',\n",
       " 'Private charitable company employee',\n",
       " 'Not Applicable',\n",
       " 'Not Applicable',\n",
       " 'Private profit company employee',\n",
       " 'Self-employed not own business',\n",
       " 'Local government employee',\n",
       " 'State government employee',\n",
       " 'Non paying family business',\n",
       " 'Federal government employee',\n",
       " 'Unemployed',\n",
       " 'Self-employed own business',\n",
       " 'Male',\n",
       " 'Female']"
      ]
     },
     "execution_count": 5,
     "metadata": {},
     "output_type": "execute_result"
    }
   ],
   "source": [
    "features"
   ]
  },
  {
   "cell_type": "code",
   "execution_count": 6,
   "metadata": {},
   "outputs": [],
   "source": [
    "import numpy\n",
    "#chunk = pandas.read_csv(\"reduced_merged_data\\\\2013_1_reduced_merged.csv\")"
   ]
  },
  {
   "cell_type": "code",
   "execution_count": 7,
   "metadata": {},
   "outputs": [
    {
     "name": "stdout",
     "output_type": "stream",
     "text": [
      "Working on chunk:  0  with number of rows:  5829\n",
      "Writing chunk:  0\n",
      "Working on chunk:  1  with number of rows:  6135\n",
      "Writing chunk:  1\n",
      "Working on chunk:  2  with number of rows:  6014\n",
      "Writing chunk:  2\n",
      "Working on chunk:  3  with number of rows:  5687\n",
      "Writing chunk:  3\n",
      "Working on chunk:  4  with number of rows:  5848\n",
      "Writing chunk:  4\n",
      "Working on chunk:  5  with number of rows:  5950\n",
      "Writing chunk:  5\n",
      "Working on chunk:  6  with number of rows:  5919\n",
      "Writing chunk:  6\n",
      "Working on chunk:  7  with number of rows:  5912\n",
      "Writing chunk:  7\n",
      "Working on chunk:  8  with number of rows:  5925\n",
      "Writing chunk:  8\n",
      "Working on chunk:  9  with number of rows:  5979\n",
      "Writing chunk:  9\n",
      "Working on chunk:  10  with number of rows:  5892\n",
      "Writing chunk:  10\n",
      "Working on chunk:  11  with number of rows:  5890\n",
      "Writing chunk:  11\n",
      "Working on chunk:  12  with number of rows:  5913\n",
      "Writing chunk:  12\n",
      "Working on chunk:  13  with number of rows:  5948\n",
      "Writing chunk:  13\n",
      "Working on chunk:  14  with number of rows:  5919\n",
      "Writing chunk:  14\n",
      "Working on chunk:  15  with number of rows:  6505\n",
      "Writing chunk:  15\n",
      "Working on chunk:  16  with number of rows:  6250\n",
      "Writing chunk:  16\n",
      "Working on chunk:  17  with number of rows:  6223\n",
      "Writing chunk:  17\n",
      "Working on chunk:  18  with number of rows:  6432\n",
      "Writing chunk:  18\n",
      "Working on chunk:  19  with number of rows:  6060\n",
      "Writing chunk:  19\n",
      "Working on chunk:  20  with number of rows:  5787\n",
      "Writing chunk:  20\n",
      "Working on chunk:  21  with number of rows:  5665\n",
      "Writing chunk:  21\n",
      "Working on chunk:  22  with number of rows:  5801\n",
      "Writing chunk:  22\n",
      "Working on chunk:  23  with number of rows:  5848\n",
      "Writing chunk:  23\n",
      "Working on chunk:  24  with number of rows:  5914\n",
      "Writing chunk:  24\n",
      "Working on chunk:  25  with number of rows:  6170\n",
      "Writing chunk:  25\n",
      "Working on chunk:  26  with number of rows:  6190\n",
      "Writing chunk:  26\n",
      "Working on chunk:  27  with number of rows:  6083\n",
      "Writing chunk:  27\n",
      "Working on chunk:  28  with number of rows:  5961\n",
      "Writing chunk:  28\n",
      "Working on chunk:  29  with number of rows:  6217\n",
      "Writing chunk:  29\n",
      "Working on chunk:  30  with number of rows:  6199\n",
      "Writing chunk:  30\n",
      "Working on chunk:  31  with number of rows:  6207\n",
      "Writing chunk:  31\n",
      "Working on chunk:  32  with number of rows:  6127\n",
      "Writing chunk:  32\n",
      "Working on chunk:  33  with number of rows:  6199\n",
      "Writing chunk:  33\n",
      "Working on chunk:  34  with number of rows:  6288\n",
      "Writing chunk:  34\n",
      "Working on chunk:  35  with number of rows:  6194\n",
      "Writing chunk:  35\n",
      "Working on chunk:  36  with number of rows:  6212\n",
      "Writing chunk:  36\n",
      "Working on chunk:  37  with number of rows:  6302\n",
      "Writing chunk:  37\n",
      "Working on chunk:  38  with number of rows:  6126\n",
      "Writing chunk:  38\n",
      "Working on chunk:  39  with number of rows:  5710\n",
      "Writing chunk:  39\n",
      "Working on chunk:  40  with number of rows:  5773\n",
      "Writing chunk:  40\n",
      "Working on chunk:  41  with number of rows:  5591\n",
      "Writing chunk:  41\n",
      "Working on chunk:  42  with number of rows:  5707\n",
      "Writing chunk:  42\n",
      "Working on chunk:  43  with number of rows:  6251\n",
      "Writing chunk:  43\n",
      "Working on chunk:  44  with number of rows:  6300\n",
      "Writing chunk:  44\n",
      "Working on chunk:  45  with number of rows:  6281\n",
      "Writing chunk:  45\n",
      "Working on chunk:  46  with number of rows:  6295\n",
      "Writing chunk:  46\n",
      "Working on chunk:  47  with number of rows:  6317\n",
      "Writing chunk:  47\n",
      "Working on chunk:  48  with number of rows:  6048\n",
      "Writing chunk:  48\n",
      "Working on chunk:  49  with number of rows:  6033\n",
      "Writing chunk:  49\n",
      "Working on chunk:  50  with number of rows:  6077\n",
      "Writing chunk:  50\n",
      "Working on chunk:  51  with number of rows:  6263\n",
      "Writing chunk:  51\n",
      "Working on chunk:  52  with number of rows:  6484\n",
      "Writing chunk:  52\n",
      "Working on chunk:  53  with number of rows:  6180\n",
      "Writing chunk:  53\n",
      "Working on chunk:  54  with number of rows:  5719\n",
      "Writing chunk:  54\n",
      "Working on chunk:  55  with number of rows:  5927\n",
      "Writing chunk:  55\n",
      "Working on chunk:  56  with number of rows:  6178\n",
      "Writing chunk:  56\n",
      "Working on chunk:  57  with number of rows:  6051\n",
      "Writing chunk:  57\n",
      "Working on chunk:  58  with number of rows:  6234\n",
      "Writing chunk:  58\n",
      "Working on chunk:  59  with number of rows:  6139\n",
      "Writing chunk:  59\n",
      "Working on chunk:  60  with number of rows:  6281\n",
      "Writing chunk:  60\n",
      "Working on chunk:  61  with number of rows:  6182\n",
      "Writing chunk:  61\n",
      "Working on chunk:  62  with number of rows:  6037\n",
      "Writing chunk:  62\n",
      "Working on chunk:  63  with number of rows:  6119\n",
      "Writing chunk:  63\n",
      "Working on chunk:  64  with number of rows:  5732\n",
      "Writing chunk:  64\n",
      "Working on chunk:  65  with number of rows:  5950\n",
      "Writing chunk:  65\n",
      "Working on chunk:  66  with number of rows:  6046\n",
      "Writing chunk:  66\n",
      "Working on chunk:  67  with number of rows:  5916\n",
      "Writing chunk:  67\n",
      "Working on chunk:  68  with number of rows:  5971\n",
      "Writing chunk:  68\n",
      "Working on chunk:  69  with number of rows:  5972\n",
      "Writing chunk:  69\n",
      "Working on chunk:  70  with number of rows:  6092\n",
      "Writing chunk:  70\n",
      "Working on chunk:  71  with number of rows:  6241\n",
      "Writing chunk:  71\n",
      "Working on chunk:  72  with number of rows:  6179\n",
      "Writing chunk:  72\n",
      "Working on chunk:  73  with number of rows:  6277\n",
      "Writing chunk:  73\n",
      "Working on chunk:  74  with number of rows:  6171\n",
      "Writing chunk:  74\n",
      "Working on chunk:  75  with number of rows:  6057\n",
      "Writing chunk:  75\n",
      "Working on chunk:  76  with number of rows:  6087\n",
      "Writing chunk:  76\n",
      "Working on chunk:  77  with number of rows:  6106\n",
      "Writing chunk:  77\n",
      "Working on chunk:  78  with number of rows:  5914\n",
      "Writing chunk:  78\n",
      "Working on chunk:  79  with number of rows:  5978\n",
      "Writing chunk:  79\n",
      "Working on chunk:  80  with number of rows:  6077\n",
      "Writing chunk:  80\n",
      "Working on chunk:  81  with number of rows:  6048\n",
      "Writing chunk:  81\n",
      "Working on chunk:  82  with number of rows:  5956\n",
      "Writing chunk:  82\n",
      "Working on chunk:  83  with number of rows:  6029\n",
      "Writing chunk:  83\n",
      "Working on chunk:  84  with number of rows:  5984\n",
      "Writing chunk:  84\n",
      "Working on chunk:  85  with number of rows:  6144\n",
      "Writing chunk:  85\n",
      "Working on chunk:  86  with number of rows:  6088\n",
      "Writing chunk:  86\n",
      "Working on chunk:  87  with number of rows:  6241\n",
      "Writing chunk:  87\n",
      "Working on chunk:  88  with number of rows:  6344\n",
      "Writing chunk:  88\n",
      "Working on chunk:  89  with number of rows:  6149\n",
      "Writing chunk:  89\n",
      "Working on chunk:  90  with number of rows:  6017\n",
      "Writing chunk:  90\n",
      "Working on chunk:  91  with number of rows:  5868\n",
      "Writing chunk:  91\n",
      "Working on chunk:  92  with number of rows:  5916\n",
      "Writing chunk:  92\n",
      "Working on chunk:  93  with number of rows:  5867\n",
      "Writing chunk:  93\n",
      "Working on chunk:  94  with number of rows:  5816\n",
      "Writing chunk:  94\n",
      "Working on chunk:  95  with number of rows:  5903\n",
      "Writing chunk:  95\n",
      "Working on chunk:  96  with number of rows:  5868\n",
      "Writing chunk:  96\n",
      "Working on chunk:  97  with number of rows:  6011\n",
      "Writing chunk:  97\n",
      "Working on chunk:  98  with number of rows:  6425\n",
      "Writing chunk:  98\n",
      "Working on chunk:  99  with number of rows:  6192\n",
      "Writing chunk:  99\n",
      "Working on chunk:  100  with number of rows:  6290\n",
      "Writing chunk:  100\n",
      "Working on chunk:  101  with number of rows:  6272\n",
      "Writing chunk:  101\n",
      "Working on chunk:  102  with number of rows:  6217\n",
      "Writing chunk:  102\n",
      "Working on chunk:  103  with number of rows:  5503\n",
      "Writing chunk:  103\n",
      "Working on chunk:  104  with number of rows:  5779\n",
      "Writing chunk:  104\n",
      "Working on chunk:  105  with number of rows:  6351\n",
      "Writing chunk:  105\n",
      "Working on chunk:  106  with number of rows:  6354\n",
      "Writing chunk:  106\n",
      "Working on chunk:  107  with number of rows:  2960\n",
      "Writing chunk:  107\n"
     ]
    }
   ],
   "source": [
    "i = 0\n",
    "for chunk in pandas.read_csv(\"../big_data/reduced_merged/2002_1_reduced_merged.csv\", chunksize = 10000):\n",
    "    chunk = chunk.dropna(subset=['INDUSTRY','CATEGORY_OF_WORK'])\n",
    "    chunk = chunk.reset_index()\n",
    "    print(\"Working on chunk: \",i, \" with number of rows: \",len(chunk))\n",
    "    extra_feature_cols = pandas.DataFrame(0, index=numpy.arange(len(chunk)), columns=features)\n",
    "    chunk = pandas.concat([chunk, extra_feature_cols], axis=1)\n",
    "\n",
    "    for index, row in chunk.iterrows():\n",
    "        if row.INDUSTRY == 'INDUSTRY':\n",
    "            continue\n",
    "        try:\n",
    "            chunk.loc[index, cow_dict[str(int(row['CATEGORY_OF_WORK']))]] = 1\n",
    "        except:\n",
    "            pass\n",
    "\n",
    "        try:\n",
    "            chunk.loc[index, gender_dict[int(row['GENDER'])]] = 1\n",
    "        except:\n",
    "            pass\n",
    "        try:\n",
    "            chunk.loc[index, rac1p_dict[row['RACE']]] = 1\n",
    "        except:\n",
    "            pass\n",
    "\n",
    "        if row.HISPANIC == 1:\n",
    "            chunk.loc[index, 'HISPANIC'] = 0\n",
    "        else:\n",
    "            chunk.loc[index, 'HISPANIC'] = 1\n",
    "        try:\n",
    "            chunk.loc[index, indp_dict[row['INDUSTRY']]] = 1\n",
    "        except:\n",
    "            pass\n",
    "    \n",
    "    print(\"Writing chunk: \",i)\n",
    "    if i == 0:\n",
    "        chunk.to_csv(\"./flattened_2002.csv\", index=False)\n",
    "    else:\n",
    "        chunk.to_csv(\"./flattened_2002.csv\", index=False, mode = 'a', header=False)\n",
    "    i += 1"
   ]
  },
  {
   "cell_type": "code",
   "execution_count": 44,
   "metadata": {},
   "outputs": [],
   "source": []
  },
  {
   "cell_type": "code",
   "execution_count": 40,
   "metadata": {},
   "outputs": [
    {
     "name": "stderr",
     "output_type": "stream",
     "text": [
      "/usr/local/lib/python3.5/dist-packages/IPython/core/interactiveshell.py:2728: DtypeWarning: Columns (1,2,3,4,5,6,7,8,9,10) have mixed types. Specify dtype option on import or set low_memory=False.\n",
      "  interactivity=interactivity, compiler=compiler, result=result)\n"
     ]
    }
   ],
   "source": [
    "flattened = pandas.read_csv(\"./flattened_20\")"
   ]
  },
  {
   "cell_type": "code",
   "execution_count": 41,
   "metadata": {},
   "outputs": [
    {
     "data": {
      "text/plain": [
       "651252"
      ]
     },
     "execution_count": 41,
     "metadata": {},
     "output_type": "execute_result"
    }
   ],
   "source": [
    "\n",
    "flattened = flattened[['HISPANIC','EDUCATION', 'income', 'AGE','RETAIL','COMMUNITY_SERVICES', 'FINANCE', 'WHOLESALE','DOMESTIC_SERVICES', 'ENTERTAINMENT', 'ADMINISTRATION', 'UTILITIES','EXTRACTION', 'INFORMATION_TECH', 'CONSTRUCTION', 'SERVICES','MILITARY', 'UNEMPLOYED', 'MANUFACTURING', 'AGRICULTURE', 'MEDICAL','TRANSPORT', 'White', 'Black or African American', 'American Indian','Alaska Native', 'American Indian and Alaska Native tribes specified','Asian', 'Native Hawaiian', 'Some Other Race', 'Two or More Races', 'Private profit company employee','Local government employee', 'Private charitable company employee','Federal government employee', 'State government employee','Self-employed own business', 'Self-employed not own business','Unemployed', 'Non paying family business', 'Male', 'Female']]\n",
    "flattened = flattened[flattened.AGE != 'AGE']\n",
    "\n",
    "flattened.EDUCATION = flattened.EDUCATION.astype(float)\n",
    "flattened.EDUCATION = stats.zscore(flattened.EDUCATION)\n",
    "\n",
    "flattened.AGE = flattened.AGE.astype(int)\n",
    "flattened.AGE = stats.zscore(flattened.AGE)\n",
    "\n",
    "flattened.income = flattened.income.astype(float)\n",
    "flattened.income = stats.zscore(flattened.income)\n",
    "\n",
    "#df_for_regression = df_for_regression[df_for_regression.D != 'GENDER']\n",
    "len(flattened)"
   ]
  },
  {
   "cell_type": "code",
   "execution_count": 53,
   "metadata": {},
   "outputs": [
    {
     "name": "stdout",
     "output_type": "stream",
     "text": [
      "{'ADMINISTRATION': -0.71241017298674403, 'EXTRACTION': -0.41245723997607397, 'TRANSPORT': -0.65909929625256325, 'Self-employed not own business': -0.057546739275223281, 'Self-employed own business': 0.58681790053152427, 'Non paying family business': -0.35314350483444584, 'Private profit company employee': -0.076810450467902316, 'UNEMPLOYED': -0.68902810183383234, 'Female': -0.20537758931392222, 'AGRICULTURE': -0.86273680811377573, 'White': 0.72338506069044273, 'HISPANIC': -0.024809179173996793, 'CONSTRUCTION': -0.71429798645855713, 'State government employee': 0.08735557285366638, 'MANUFACTURING': -0.53105609413054566, 'FINANCE': -0.34195399376814389, 'Asian': 0.70815359839415548, 'AGE': 0.15801759898223372, 'Alaska Native': 0.67783010272836031, 'EDUCATION': 0.33649318927660687, 'Native Hawaiian': 0.64567770437937977, 'RETAIL': -0.79215175863566478, 'Local government employee': 0.072884073908704453, 'Some Other Race': 0.70405338016234131, 'American Indian and Alaska Native tribes specified': 0.6041041842466589, 'ENTERTAINMENT': -0.84019162708994821, 'WHOLESALE': -0.55998411914170987, 'INFORMATION_TECH': -0.48087684794616786, 'COMMUNITY_SERVICES': -0.88559031902404861, 'MILITARY': -0.84190673953296291, 'MEDICAL': -0.55460925664682026, 'UTILITIES': -0.46602663850105125, 'Private charitable company employee': -0.01915258127251367, 'Black or African American': 0.58793516109839683, 'Unemployed': -0.35650670781478994, 'Two or More Races': 0.64488195711100171, 'Male': 0.20537758929009967, 'American Indian': 0.55716870429089382, 'DOMESTIC_SERVICES': -0.85452052347311613, 'Federal government employee': 0.11610243613276468, 'SERVICES': -0.49839671777533034}\n"
     ]
    }
   ],
   "source": [
    "df_for_regression_y = flattened[['income']]\n",
    "df_for_regression_x = flattened[['HISPANIC','EDUCATION', 'AGE','RETAIL','COMMUNITY_SERVICES', 'FINANCE', 'WHOLESALE','DOMESTIC_SERVICES', 'ENTERTAINMENT', 'ADMINISTRATION', 'UTILITIES','EXTRACTION', 'INFORMATION_TECH', 'CONSTRUCTION', 'SERVICES','MILITARY', 'UNEMPLOYED', 'MANUFACTURING', 'AGRICULTURE', 'MEDICAL','TRANSPORT', 'White', 'Black or African American', 'American Indian','Alaska Native', 'American Indian and Alaska Native tribes specified','Asian', 'Native Hawaiian', 'Some Other Race', 'Two or More Races', 'Private profit company employee','Local government employee', 'Private charitable company employee','Federal government employee', 'State government employee','Self-employed own business', 'Self-employed not own business','Unemployed', 'Non paying family business', 'Male', 'Female']]\n",
    "column_list = df_for_regression_x.columns\n",
    "\n",
    "from sklearn import datasets, linear_model\n",
    "from sklearn.metrics import mean_squared_error, r2_score\n",
    "\n",
    "regr = linear_model.Ridge()\n",
    "regr.fit(df_for_regression_x, df_for_regression_y)\n",
    "\n",
    "coeffs = regr.coef_[0]\n",
    "\n",
    "column_to_coeff = dict()\n",
    "for i in range(len(coeffs)):\n",
    "    column_to_coeff[column_list[i]] = coeffs[i]\n",
    "    \n",
    "print(column_to_coeff)"
   ]
  },
  {
   "cell_type": "code",
   "execution_count": 52,
   "metadata": {},
   "outputs": [
    {
     "data": {
      "text/plain": [
       "0.080330665471772617"
      ]
     },
     "execution_count": 52,
     "metadata": {},
     "output_type": "execute_result"
    }
   ],
   "source": [
    "pearsonr(flattened['Federal government employee'], flattened['Unemployed'])\n",
    "flattened['White'].astype(int).corr( flattened['income'])"
   ]
  },
  {
   "cell_type": "code",
   "execution_count": 79,
   "metadata": {},
   "outputs": [
    {
     "name": "stderr",
     "output_type": "stream",
     "text": [
      "/usr/local/lib/python3.5/dist-packages/IPython/core/interactiveshell.py:2728: DtypeWarning: Columns (1,2,3,4,47,48,49,50,51,52) have mixed types. Specify dtype option on import or set low_memory=False.\n",
      "  interactivity=interactivity, compiler=compiler, result=result)\n"
     ]
    }
   ],
   "source": [
    "dataset = pandas.read_csv(\"./flattened_2002.csv\")"
   ]
  },
  {
   "cell_type": "code",
   "execution_count": 61,
   "metadata": {},
   "outputs": [
    {
     "data": {
      "text/plain": [
       "52"
      ]
     },
     "execution_count": 61,
     "metadata": {},
     "output_type": "execute_result"
    }
   ],
   "source": [
    "len(dataset.columns)"
   ]
  },
  {
   "cell_type": "code",
   "execution_count": 67,
   "metadata": {},
   "outputs": [
    {
     "name": "stdout",
     "output_type": "stream",
     "text": [
      "['index', 'SERIALNO', 'RACE', 'HISPANIC', 'INDUSTRY', 'CATEGORY_OF_WORK', 'EDUCATION', 'income', 'AGE', 'GENDER', 'DATA_FROM_YEAR', 'EDUCATION.1', 'ADMINISTRATION', 'EXTRACTION', 'TRANSPORT', 'CONSTRUCTION', 'AGRICULTURE', 'UNEMPLOYED', 'FINANCE', 'INFORMATION_TECH', 'RETAIL', 'COMMUNITY_SERVICES', 'MEDICAL', 'UTILITIES', 'WHOLESALE', 'MANUFACTURING', 'MILITARY', 'DOMESTIC_SERVICES', 'ENTERTAINMENT', 'SERVICES', 'White', 'Black or African American', 'American Indian', 'Alaska Native', 'American Indian and Alaska Native tribes specified', 'Asian', 'Native Hawaiian', 'Some Other Race', 'Two or More Races', 'Private charitable company employee', 'Not Applicable', 'Not Applicable.1', 'Private profit company employee', 'Self-employed not own business', 'Local government employee', 'State government employee', 'Non paying family business', 'Federal government employee', 'Unemployed', 'Self-employed own business', 'Male', 'Female']\n"
     ]
    }
   ],
   "source": [
    "features = list(dataset.columns)\n",
    "print(list(features))\n",
    "index = features.index(\"income\")\n",
    "features = features[index:] + features[:index]\n",
    "features\n",
    "dataset = dataset[features]\n",
    "#index"
   ]
  },
  {
   "cell_type": "code",
   "execution_count": 70,
   "metadata": {},
   "outputs": [],
   "source": [
    "dataset.head(1000).to_csv(\"./flattened_2002_1000.csv\")"
   ]
  },
  {
   "cell_type": "code",
   "execution_count": 4,
   "metadata": {},
   "outputs": [
    {
     "name": "stderr",
     "output_type": "stream",
     "text": [
      "/usr/local/lib/python3.5/dist-packages/IPython/core/interactiveshell.py:2728: DtypeWarning: Columns (1,2,3,4,47,48,49,50,51,52) have mixed types. Specify dtype option on import or set low_memory=False.\n",
      "  interactivity=interactivity, compiler=compiler, result=result)\n"
     ]
    }
   ],
   "source": [
    "dataset = pandas.read_csv(\"./flattened_2002.csv\")"
   ]
  },
  {
   "cell_type": "code",
   "execution_count": 18,
   "metadata": {},
   "outputs": [
    {
     "name": "stderr",
     "output_type": "stream",
     "text": [
      "/usr/local/lib/python3.5/dist-packages/IPython/core/interactiveshell.py:2728: DtypeWarning: Columns (1,2,3,4,5,6,7,8,9,10) have mixed types. Specify dtype option on import or set low_memory=False.\n",
      "  interactivity=interactivity, compiler=compiler, result=result)\n"
     ]
    }
   ],
   "source": [
    "year = 2016\n",
    "#while(year < 2016):\n",
    "dataset = pandas.read_csv(\"./flattened_files/flattened_files/flattened_\" + str(year) + \".csv\")\n",
    "dataset = dataset[['income', 'HISPANIC', 'DATA_FROM_YEAR', 'EDUCATION', 'AGE','RETAIL','COMMUNITY_SERVICES', 'FINANCE', 'WHOLESALE','DOMESTIC_SERVICES', 'ENTERTAINMENT', 'ADMINISTRATION', 'UTILITIES','EXTRACTION', 'INFORMATION_TECH', 'CONSTRUCTION', 'SERVICES','MILITARY', 'UNEMPLOYED', 'MANUFACTURING', 'AGRICULTURE', 'MEDICAL','TRANSPORT', 'White', 'Black or African American', 'American Indian','Alaska Native', 'American Indian and Alaska Native tribes specified','Asian', 'Native Hawaiian', 'Some Other Race', 'Two or More Races', 'Private profit company employee','Local government employee', 'Private charitable company employee','Federal government employee', 'State government employee','Self-employed own business', 'Self-employed not own business','Unemployed', 'Non paying family business', 'Male', 'Female']]\n",
    "\n",
    "#features = ['income', 'HISPANIC','EDUCATION', 'AGE','RETAIL','COMMUNITY_SERVICES', 'FINANCE', 'WHOLESALE','DOMESTIC_SERVICES', 'ENTERTAINMENT', 'ADMINISTRATION', 'UTILITIES','EXTRACTION', 'INFORMATION_TECH', 'CONSTRUCTION', 'SERVICES','MILITARY', 'UNEMPLOYED', 'MANUFACTURING', 'AGRICULTURE', 'MEDICAL','TRANSPORT', 'White', 'Black or African American', 'American Indian','Alaska Native', 'American Indian and Alaska Native tribes specified','Asian', 'Native Hawaiian', 'Some Other Race', 'Two or More Races', 'Private profit company employee','Local government employee', 'Private charitable company employee','Federal government employee', 'State government employee','Self-employed own business', 'Self-employed not own business','Unemployed', 'Non paying family business', 'Male', 'Female']\n",
    "try:\n",
    "    dataset = dataset[dataset.AGE != 'AGE']\n",
    "except:\n",
    "    pass\n",
    "dataset.EDUCATION = dataset.EDUCATION.astype(float)\n",
    "dataset.EDUCATION = stats.zscore(dataset.EDUCATION)\n",
    "\n",
    "dataset.AGE = dataset.AGE.astype(int)\n",
    "dataset.AGE = stats.zscore(dataset.AGE)\n",
    "\n",
    "dataset.income = dataset.income.astype(float)\n",
    "dataset.income = stats.zscore(dataset.income)\n",
    "\n",
    "#dataset.to_csv(\"./flattened_files/flattened_with_years.csv\", index=False, header = False, mode = 'a')\n",
    "#dataset = dataset.drop(['DATA_FROM_YEAR'], axis = 1)\n",
    "dataset.to_csv(\"./flattened_files/flattened_files_new/flattened_\" + str(year) + \"_with_year.csv\", index=False, header = False)\n",
    "year += 1"
   ]
  },
  {
   "cell_type": "code",
   "execution_count": 83,
   "metadata": {},
   "outputs": [],
   "source": [
    "dataset.head(1000).to_csv(\"./flattened_2002_1000.csv\", index=False, header=False)"
   ]
  },
  {
   "cell_type": "code",
   "execution_count": 87,
   "metadata": {},
   "outputs": [],
   "source": [
    "dataset.to_csv(\"./flattened_2000_without_years.csv\", index=False, header = False)"
   ]
  },
  {
   "cell_type": "code",
   "execution_count": 86,
   "metadata": {},
   "outputs": [
    {
     "data": {
      "text/plain": [
       "22"
      ]
     },
     "execution_count": 86,
     "metadata": {},
     "output_type": "execute_result"
    }
   ],
   "source": [
    "col = list(dataset.columns)\n",
    "col.index('White')"
   ]
  },
  {
   "cell_type": "code",
   "execution_count": null,
   "metadata": {},
   "outputs": [],
   "source": []
  }
 ],
 "metadata": {
  "anaconda-cloud": {},
  "kernelspec": {
   "display_name": "Python 3",
   "language": "python",
   "name": "python3"
  },
  "language_info": {
   "codemirror_mode": {
    "name": "ipython",
    "version": 3
   },
   "file_extension": ".py",
   "mimetype": "text/x-python",
   "name": "python",
   "nbconvert_exporter": "python",
   "pygments_lexer": "ipython3",
   "version": "3.5.2"
  }
 },
 "nbformat": 4,
 "nbformat_minor": 2
}
